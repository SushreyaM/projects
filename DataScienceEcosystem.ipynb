{
 "cells": [
  {
   "cell_type": "markdown",
   "id": "8ba4d908",
   "metadata": {},
   "source": [
    "# Data Science Tools and Ecosystem"
   ]
  },
  {
   "cell_type": "markdown",
   "id": "3d1b5c70",
   "metadata": {},
   "source": [
    "### In this notebook, Data Science Tools and Ecosystem are summarized. "
   ]
  },
  {
   "cell_type": "markdown",
   "id": "435aa5ad",
   "metadata": {},
   "source": [
    "###### Objectives:"
   ]
  },
  {
   "cell_type": "markdown",
   "id": "f2c44016",
   "metadata": {},
   "source": [
    "* List popular languages for data science\n",
    "* List libraries used for data science\n",
    "* List data science tools \n",
    "* Convert hour into minutes\n",
    "* Perform simple arithmetic operation"
   ]
  },
  {
   "cell_type": "markdown",
   "id": "270ad5b4",
   "metadata": {},
   "source": [
    "##### Some of the popular languages that Data Scientists use are :"
   ]
  },
  {
   "cell_type": "markdown",
   "id": "e55cb90b",
   "metadata": {},
   "source": [
    " 1. Python\n",
    "   2. R\n",
    "   3. Scala\n"
   ]
  },
  {
   "cell_type": "markdown",
   "id": "36241714",
   "metadata": {},
   "source": [
    "##### Some of the commonly used libraries used by Data Scientists include:"
   ]
  },
  {
   "cell_type": "markdown",
   "id": "65e8a12f",
   "metadata": {},
   "source": [
    "   1. Pandas\n",
    "   2. Numpy\n",
    "   3. Matplotlib\n",
    "    "
   ]
  },
  {
   "cell_type": "markdown",
   "id": "4d884cc1",
   "metadata": {},
   "source": [
    "| Data Science Tools  |\n",
    "-------------------------------\n",
    "|1.Apache Hadoop|\n",
    "|2.Scikit-Learn |\n",
    "|3.Spyder |"
   ]
  },
  {
   "cell_type": "markdown",
   "id": "63d85a21",
   "metadata": {},
   "source": [
    "### Below are a few examples of evaluating arithmetic expressions in Python"
   ]
  },
  {
   "cell_type": "code",
   "execution_count": 9,
   "id": "faa4fca8",
   "metadata": {},
   "outputs": [
    {
     "data": {
      "text/plain": [
       "17"
      ]
     },
     "execution_count": 9,
     "metadata": {},
     "output_type": "execute_result"
    }
   ],
   "source": [
    "# This is a simple arithmetic expression to multiply then add integers.\n",
    "\n",
    "(3*4)+5"
   ]
  },
  {
   "cell_type": "code",
   "execution_count": 11,
   "id": "02f021c3",
   "metadata": {},
   "outputs": [
    {
     "name": "stdout",
     "output_type": "stream",
     "text": [
      "3.3333333333333335\n"
     ]
    }
   ],
   "source": [
    "# This will convert 200 minutes to hours by dividing by 60.\n",
    "\n",
    "hours = 200/60\n",
    "print(hours)"
   ]
  },
  {
   "cell_type": "markdown",
   "id": "32d0bc98",
   "metadata": {},
   "source": [
    "## Author\n",
    "Shreya Mallik"
   ]
  },
  {
   "cell_type": "code",
   "execution_count": null,
   "id": "32fe428f",
   "metadata": {},
   "outputs": [],
   "source": []
  }
 ],
 "metadata": {
  "kernelspec": {
   "display_name": "Python 3 (ipykernel)",
   "language": "python",
   "name": "python3"
  },
  "language_info": {
   "codemirror_mode": {
    "name": "ipython",
    "version": 3
   },
   "file_extension": ".py",
   "mimetype": "text/x-python",
   "name": "python",
   "nbconvert_exporter": "python",
   "pygments_lexer": "ipython3",
   "version": "3.11.4"
  }
 },
 "nbformat": 4,
 "nbformat_minor": 5
}
